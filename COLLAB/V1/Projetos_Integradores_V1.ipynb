{
  "nbformat": 4,
  "nbformat_minor": 0,
  "metadata": {
    "colab": {
      "provenance": []
    },
    "kernelspec": {
      "name": "python3",
      "display_name": "Python 3"
    },
    "language_info": {
      "name": "python"
    }
  },
  "cells": [
    {
      "cell_type": "markdown",
      "source": [
        "#Descrição do Projeto\n",
        "O projeto trata-se de um sistema para garantir a segurança dos operários de máquinas pesadas, principalmente sobre o uso adequado de EPI. Utiliza tecnologias como:\n",
        "\n",
        "*   Python;\n",
        "*   Arduino;\n",
        "*   Dashboard (HTML, CSS E JS);\n",
        "*   Geração e leitura de QR Code;\n",
        "*   Serialização e desserialização de dados (JSON);\n",
        "*   Integração de API com Flask.\n",
        "\n",
        "\\\n",
        "O sistema recebe as imagens de uma câmera, lê um QR Code que contém as informações do funcionário (nome, curso e validade), valida os dados e, se estiver tudo certo, libera o acesso. Caso haja problema (curso vencido), envia alerta ao supervisor e aciona a sirene. Tudo está integrado a um dashboard que atualiza as imagens e o diagnóstico final em tempo real."
      ],
      "metadata": {
        "id": "J_qRQhQMVIx5"
      }
    },
    {
      "cell_type": "markdown",
      "source": [
        "##Instalação de bibliotecas\n",
        "\n",
        "Bibliotecas python para o desenvolvimento do sistema. Bibliotecas utilizadas:\n",
        "\n",
        "*   Flask (API);\n",
        "*   OpenCV (Captura de imagem);\n",
        "*   Pybzar e pillow (Leitura de QR Code);\n",
        "*   Qrcode[pil] (Geração de QR Code);\n",
        "*   Pyserial (Comunicação com Arduino)."
      ],
      "metadata": {
        "id": "KYqS7OHYVasj"
      }
    },
    {
      "cell_type": "code",
      "execution_count": 1,
      "metadata": {
        "id": "UlMEWSae-IfR",
        "colab": {
          "base_uri": "https://localhost:8080/"
        },
        "outputId": "51c5a293-cb6c-42f0-cfcb-5833944a9096"
      },
      "outputs": [
        {
          "output_type": "stream",
          "name": "stdout",
          "text": [
            "Requirement already satisfied: flask in /usr/local/lib/python3.12/dist-packages (3.1.2)\n",
            "Requirement already satisfied: opencv-python in /usr/local/lib/python3.12/dist-packages (4.12.0.88)\n",
            "Collecting pyzbar\n",
            "  Downloading pyzbar-0.1.9-py2.py3-none-any.whl.metadata (10 kB)\n",
            "Requirement already satisfied: pillow in /usr/local/lib/python3.12/dist-packages (11.3.0)\n",
            "Collecting pyserial\n",
            "  Downloading pyserial-3.5-py2.py3-none-any.whl.metadata (1.6 kB)\n",
            "Collecting qrcode[pil]\n",
            "  Downloading qrcode-8.2-py3-none-any.whl.metadata (17 kB)\n",
            "Requirement already satisfied: blinker>=1.9.0 in /usr/local/lib/python3.12/dist-packages (from flask) (1.9.0)\n",
            "Requirement already satisfied: click>=8.1.3 in /usr/local/lib/python3.12/dist-packages (from flask) (8.2.1)\n",
            "Requirement already satisfied: itsdangerous>=2.2.0 in /usr/local/lib/python3.12/dist-packages (from flask) (2.2.0)\n",
            "Requirement already satisfied: jinja2>=3.1.2 in /usr/local/lib/python3.12/dist-packages (from flask) (3.1.6)\n",
            "Requirement already satisfied: markupsafe>=2.1.1 in /usr/local/lib/python3.12/dist-packages (from flask) (3.0.2)\n",
            "Requirement already satisfied: werkzeug>=3.1.0 in /usr/local/lib/python3.12/dist-packages (from flask) (3.1.3)\n",
            "Requirement already satisfied: numpy<2.3.0,>=2 in /usr/local/lib/python3.12/dist-packages (from opencv-python) (2.0.2)\n",
            "Downloading pyzbar-0.1.9-py2.py3-none-any.whl (32 kB)\n",
            "Downloading pyserial-3.5-py2.py3-none-any.whl (90 kB)\n",
            "\u001b[2K   \u001b[90m━━━━━━━━━━━━━━━━━━━━━━━━━━━━━━━━━━━━━━━━\u001b[0m \u001b[32m90.6/90.6 kB\u001b[0m \u001b[31m7.7 MB/s\u001b[0m eta \u001b[36m0:00:00\u001b[0m\n",
            "\u001b[?25hDownloading qrcode-8.2-py3-none-any.whl (45 kB)\n",
            "\u001b[2K   \u001b[90m━━━━━━━━━━━━━━━━━━━━━━━━━━━━━━━━━━━━━━━━\u001b[0m \u001b[32m46.0/46.0 kB\u001b[0m \u001b[31m1.8 MB/s\u001b[0m eta \u001b[36m0:00:00\u001b[0m\n",
            "\u001b[?25hInstalling collected packages: pyzbar, pyserial, qrcode\n",
            "Successfully installed pyserial-3.5 pyzbar-0.1.9 qrcode-8.2\n"
          ]
        }
      ],
      "source": [
        "pip install flask opencv-python pyzbar pillow qrcode[pil] pyserial"
      ]
    },
    {
      "cell_type": "markdown",
      "source": [
        "##Geração de QR Codes\n",
        "\n",
        "Criação dos QR Codes que vão estar nos crachás dos funcionários para validação dos seus respectivos dados:\n",
        "\n",
        "*   Nome;\n",
        "*   Curso para operar o maquinário;\n",
        "*   Data de vencimento do curso.\n"
      ],
      "metadata": {
        "id": "irL2QG6-08sN"
      }
    },
    {
      "cell_type": "code",
      "source": [
        "import qrcode, json\n",
        "\n",
        "funcionario = {\n",
        "    \"nome\": \"Maria Eduarda\",\n",
        "    \"curso\": \"sim\",\n",
        "    \"validade\": \"2025-10-20\"\n",
        "}\n",
        "\n",
        "qr = qrcode.make(json.dumps(funcionario))\n",
        "qr.save(\"qr_eduarda.png\")\n",
        "print(\"QR Code gerado!\")"
      ],
      "metadata": {
        "colab": {
          "base_uri": "https://localhost:8080/"
        },
        "id": "xQJOKR9w4IO0",
        "outputId": "493feb94-cfc7-4b45-9d61-90e7a4fbaf6a"
      },
      "execution_count": 36,
      "outputs": [
        {
          "output_type": "stream",
          "name": "stdout",
          "text": [
            "QR Code gerado!\n"
          ]
        }
      ]
    },
    {
      "cell_type": "markdown",
      "source": [
        "##Leitura de QR Code e validação de dados\n"
      ],
      "metadata": {
        "id": "d95XkBdy8P5t"
      }
    },
    {
      "cell_type": "code",
      "source": [
        "import cv2 as opencv\n",
        "import json\n",
        "from datetime import datetime\n",
        "\n",
        "img = opencv.imread('qr_eduarda.png')\n",
        "detector = opencv.QRCodeDetector()\n",
        "dados, bbox, _ = detector.detectAndDecode(img)\n",
        "if bbox is not None:\n",
        "    print(\"Dados do QR Code:\", dados)\n",
        "else:\n",
        "    print(\"Nenhum QR Code detectado.\")\n",
        "\n",
        "try:\n",
        "    funcionario = json.loads(dados)\n",
        "\n",
        "    nome = funcionario.get(\"nome\", \"\")\n",
        "    curso = funcionario.get(\"curso\", \"\").strip().lower()\n",
        "    validade = funcionario.get(\"validade\", \"\")\n",
        "\n",
        "    if curso != \"sim\":\n",
        "        print(f\"{nome} NÃO está autorizado! Motivo: curso não está válido.\")\n",
        "    else:\n",
        "        validade_dt = datetime.strptime(validade, \"%Y-%m-%d\").date()\n",
        "        hoje = datetime.now().date()\n",
        "\n",
        "        if validade_dt >= hoje:\n",
        "            print(f\"{nome} está autorizado! Curso válido até {validade}.\")\n",
        "        else:\n",
        "            print(f\"{nome} está com curso vencido! (Venceu em {validade}).\")\n",
        "\n",
        "except json.JSONDecodeError:\n",
        "    print(\"Erro: O conteúdo do QR Code não está em formato JSON válido.\")\n",
        "except ValueError:\n",
        "    print(\"Erro: Data de validade está em formato inválido (esperado: YYYY-MM-DD).\")\n",
        "\n",
        "    print(f\"Erro: Campo ausente no QR Code ({e}).\")"
      ],
      "metadata": {
        "colab": {
          "base_uri": "https://localhost:8080/"
        },
        "id": "dR1RFgCe9McD",
        "outputId": "14e99e77-0f3f-48d4-f10f-7f126fcb52a8"
      },
      "execution_count": 32,
      "outputs": [
        {
          "output_type": "stream",
          "name": "stdout",
          "text": [
            "Dados do QR Code: {\"nome\": \"Daniel Nunes Medeiros\", \"curso\": \"sim\", \"validade\": \"2025-09-11\"}\n",
            "Daniel Nunes Medeiros está com curso vencido! (Venceu em 2025-09-11).\n"
          ]
        }
      ]
    }
  ]
}